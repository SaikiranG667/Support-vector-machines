{
 "cells": [
  {
   "cell_type": "code",
   "execution_count": 5,
   "metadata": {},
   "outputs": [],
   "source": [
    "import numpy as np\n",
    "import pandas as pd\n",
    "import matplotlib.pyplot as plt"
   ]
  },
  {
   "cell_type": "code",
   "execution_count": 14,
   "metadata": {},
   "outputs": [
    {
     "data": {
      "text/html": [
       "<div>\n",
       "<style scoped>\n",
       "    .dataframe tbody tr th:only-of-type {\n",
       "        vertical-align: middle;\n",
       "    }\n",
       "\n",
       "    .dataframe tbody tr th {\n",
       "        vertical-align: top;\n",
       "    }\n",
       "\n",
       "    .dataframe thead th {\n",
       "        text-align: right;\n",
       "    }\n",
       "</style>\n",
       "<table border=\"1\" class=\"dataframe\">\n",
       "  <thead>\n",
       "    <tr style=\"text-align: right;\">\n",
       "      <th></th>\n",
       "      <th>Feature1</th>\n",
       "      <th>Feature2</th>\n",
       "      <th>Target</th>\n",
       "    </tr>\n",
       "  </thead>\n",
       "  <tbody>\n",
       "    <tr>\n",
       "      <th>0</th>\n",
       "      <td>3</td>\n",
       "      <td>2</td>\n",
       "      <td>1</td>\n",
       "    </tr>\n",
       "    <tr>\n",
       "      <th>1</th>\n",
       "      <td>4</td>\n",
       "      <td>1</td>\n",
       "      <td>1</td>\n",
       "    </tr>\n",
       "    <tr>\n",
       "      <th>2</th>\n",
       "      <td>4</td>\n",
       "      <td>-1</td>\n",
       "      <td>1</td>\n",
       "    </tr>\n",
       "    <tr>\n",
       "      <th>3</th>\n",
       "      <td>5</td>\n",
       "      <td>2</td>\n",
       "      <td>1</td>\n",
       "    </tr>\n",
       "    <tr>\n",
       "      <th>4</th>\n",
       "      <td>5</td>\n",
       "      <td>0</td>\n",
       "      <td>1</td>\n",
       "    </tr>\n",
       "  </tbody>\n",
       "</table>\n",
       "</div>"
      ],
      "text/plain": [
       "   Feature1  Feature2  Target\n",
       "0         3         2       1\n",
       "1         4         1       1\n",
       "2         4        -1       1\n",
       "3         5         2       1\n",
       "4         5         0       1"
      ]
     },
     "execution_count": 14,
     "metadata": {},
     "output_type": "execute_result"
    }
   ],
   "source": [
    "a=pd.read_csv(\"Dataset for svm numeric example.csv\")\n",
    "a.head()"
   ]
  },
  {
   "cell_type": "code",
   "execution_count": 15,
   "metadata": {},
   "outputs": [],
   "source": [
    "a0=a[a.Target==0]\n",
    "a1=a[a.Target==1]"
   ]
  },
  {
   "cell_type": "code",
   "execution_count": 17,
   "metadata": {},
   "outputs": [
    {
     "data": {
      "text/plain": [
       "<matplotlib.collections.PathCollection at 0x1b23c68d8b0>"
      ]
     },
     "execution_count": 17,
     "metadata": {},
     "output_type": "execute_result"
    },
    {
     "data": {
      "image/png": "[encoded data removed]",
      "text/plain": [
       "<Figure size 640x480 with 1 Axes>"
      ]
     },
     "metadata": {},
     "output_type": "display_data"
    }
   ],
   "source": [
    "plt.scatter(a0['Feature1'],a0['Feature2'],color='blue')\n",
    "plt.scatter(a1['Feature1'],a1['Feature2'],color='red')"
   ]
  },
  {
   "cell_type": "code",
   "execution_count": 34,
   "metadata": {},
   "outputs": [],
   "source": [
    "import numpy as np\n",
    "\n",
    "def svm(X, y):\n",
    "    a_curr = 1\n",
    "    b_curr = 1\n",
    "    c_curr = 1\n",
    "    \n",
    "    for i in range(10000):\n",
    "        res = X[i % len(y)][0] * a_curr + X[i % len(y)][1] * b_curr + c_curr\n",
    "        if (res < 0 and( y[i%len(y)] == 1)):\n",
    "            a_curr += 0.01 * X[i % len(y)][0]\n",
    "            b_curr += 0.01 * X[i % len(y)][1]\n",
    "            c_curr += 0.01\n",
    "        elif (res > 0 and (y[i%len(y)] == 0)):\n",
    "            a_curr -= 0.01 * X[i % len(y)][0]\n",
    "            b_curr -= 0.01 * X[i % len(y)][1]\n",
    "            c_curr -= 0.01\n",
    "        \n",
    "        a_curr *= 0.99\n",
    "        b_curr *= 0.99\n",
    "        c_curr *= 0.99\n",
    "    \n",
    "    return a_curr, b_curr, c_curr\n"
   ]
  },
  {
   "cell_type": "code",
   "execution_count": 27,
   "metadata": {},
   "outputs": [],
   "source": [
    "X=np.array(a[['Feature1','Feature2']])\n",
    "Y=np.array(a['Target'])"
   ]
  },
  {
   "cell_type": "code",
   "execution_count": 37,
   "metadata": {},
   "outputs": [],
   "source": [
    "a,b,c=svm(X,Y)"
   ]
  },
  {
   "cell_type": "code",
   "execution_count": 51,
   "metadata": {},
   "outputs": [],
   "source": [
    "def plot_line(a, b, c, x_range=(-5, 5)):\n",
    "    # Generate x values\n",
    "    x = np.linspace(x_range[0], x_range[1], 400)\n",
    "    \n",
    "    # Compute y values based on the line equation y = -a/b * x - c/b\n",
    "    if b != 0:\n",
    "        y = -a / b * x - c / b\n",
    "    else:\n",
    "        # If b is 0, the line is vertical, and x is constant\n",
    "        x = np.full_like(x, -c / a)\n",
    "        y = np.linspace(x_range[0], x_range[1], 400)\n",
    "\n",
    "    # Plot the line\n",
    "    plt.plot(x, y, '-r')\n",
    "    plt.xlabel('x')\n",
    "    plt.ylabel('y')\n",
    "    plt.axhline(0, color='black',linewidth=0.5)\n",
    "    plt.axvline(0, color='black',linewidth=0.5)\n",
    "    plt.scatter(a0['Feature1'],a0['Feature2'],color='blue')\n",
    "    plt.scatter(a1['Feature1'],a1['Feature2'],color='red')\n",
    "    # plt.grid(color = 'gray', linestyle = '--', linewidth = 0.5)\n",
    "    plt.show()\n"
   ]
  },
  {
   "cell_type": "code",
   "execution_count": 52,
   "metadata": {},
   "outputs": [
    {
     "data": {
      "image/png": "[encoded data removed]",
      "text/plain": [
       "<Figure size 640x480 with 1 Axes>"
      ]
     },
     "metadata": {},
     "output_type": "display_data"
    }
   ],
   "source": [
    "plot_line(a,b,c)"
   ]
  }
 ],
 "metadata": {
  "kernelspec": {
   "display_name": "hackathon",
   "language": "python",
   "name": "python3"
  },
  "language_info": {
   "codemirror_mode": {
    "name": "ipython",
    "version": 3
   },
   "file_extension": ".py",
   "mimetype": "text/x-python",
   "name": "python",
   "nbconvert_exporter": "python",
   "pygments_lexer": "ipython3",
   "version": "3.9.18"
  }
 },
 "nbformat": 4,
 "nbformat_minor": 2
}
